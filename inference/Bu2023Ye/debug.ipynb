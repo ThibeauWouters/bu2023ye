{
 "cells": [
  {
   "cell_type": "markdown",
   "metadata": {},
   "source": [
    "# Debugging"
   ]
  },
  {
   "cell_type": "code",
   "execution_count": 1,
   "metadata": {},
   "outputs": [
    {
     "data": {
      "text/plain": [
       "dict_keys(['sdssu', 'ps1__z', 'ps1__y', 'ps1__r', 'ps1__i', 'ps1__g', '2massks', '2massj', '2massh'])"
      ]
     },
     "execution_count": 1,
     "metadata": {},
     "output_type": "execute_result"
    }
   ],
   "source": [
    "import os\n",
    "import joblib\n",
    "\n",
    "# path = \"/home/urash/twouters/new_nmma_models/mattia_bulla/\"\n",
    "path = \"/home/urash/twouters/new_nmma_models/Bu2023Ye_TW/\"\n",
    "joblib_file = os.path.join(path, \"Bu2023Ye.joblib\")\n",
    "\n",
    "data = joblib.load(joblib_file)\n",
    "data.keys()"
   ]
  },
  {
   "cell_type": "code",
   "execution_count": null,
   "metadata": {},
   "outputs": [],
   "source": []
  }
 ],
 "metadata": {
  "kernelspec": {
   "display_name": "nmma_gpu",
   "language": "python",
   "name": "python3"
  },
  "language_info": {
   "codemirror_mode": {
    "name": "ipython",
    "version": 3
   },
   "file_extension": ".py",
   "mimetype": "text/x-python",
   "name": "python",
   "nbconvert_exporter": "python",
   "pygments_lexer": "ipython3",
   "version": "3.10.14"
  },
  "orig_nbformat": 4
 },
 "nbformat": 4,
 "nbformat_minor": 2
}
